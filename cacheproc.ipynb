{
 "cells": [
  {
   "cell_type": "code",
   "execution_count": null,
   "metadata": {},
   "outputs": [
    {
     "name": "stdout",
     "output_type": "stream",
     "text": [
      "Digite W para escrever, R para ler, L para listar toda a memoria e qualquer tecla para parar. W\n",
      "Digite o endereco de 5 bits: 10101\n",
      "Digite o dado de 8 bits: 11111111\n",
      "Digite W para escrever, R para ler, L para listar toda a memoria e qualquer tecla para parar. R\n",
      "Digite o endereco: 10101\n",
      "Cache MISS!\n",
      "11111111\n",
      "Digite W para escrever, R para ler, L para listar toda a memoria e qualquer tecla para parar. R\n",
      "Digite o endereco: 10101\n",
      "Cache HIT!\n",
      "11111111\n",
      "Digite W para escrever, R para ler, L para listar toda a memoria e qualquer tecla para parar. R\n",
      "Digite o endereco: 10100\n",
      "Cache MISS!\n",
      "00000000\n"
     ]
    }
   ],
   "source": [
    "start = 'W'\n",
    "endereco_mp = {}\n",
    "endereco_cache = {}\n",
    "bits_tag = 3; bits_conj = 1; bits_plvr = 1; sett = 2; n_conj_mp = 2 \n",
    "counter = -1\n",
    "for place0 in range(0, 16):\n",
    "    (endereco_mp['{0:04b}'.format(place0)]) = {}\n",
    "    counter += 1\n",
    "    for place1 in range(0,2):\n",
    "        (endereco_mp['{0:04b}'.format(place0)]['{0:05b}'.format(place1+int(2*counter))]) = '00000000'\n",
    "for place1 in range(0, 2):\n",
    "    (endereco_cache['{0:01b}'.format(place1)]) = {}\n",
    "    for place2 in range(0,2):\n",
    "            (endereco_cache['{0:01b}'.format(place1)]['{0:01b}'.format(place2)]) = {}\n",
    "            for place3 in range(0,1):\n",
    "                (endereco_cache['{0:01b}'.format(place1)]['{0:01b}'.format(place2)]['TAG']) = ''\n",
    "            for place4 in range(0,2):\n",
    "                (endereco_cache['{0:01b}'.format(place1)]['{0:01b}'.format(place2)]['{0:01b}'.format(place4)]) = ''\n",
    "while start == 'W' or start == 'L' or start == 'R':\n",
    "    start = input('Digite W para escrever, R para ler, L para listar toda a memoria e qualquer tecla para parar. ')\n",
    "    if start == 'W':\n",
    "        local = input('Digite o endereco de 5 bits: ')\n",
    "        palavra = input('Digite o dado de 8 bits: ')\n",
    "        num_bloco_mp = ''.join(list(local)[0:4])\n",
    "        endereco_mp[num_bloco_mp][local] = palavra\n",
    "    elif start == 'R':\n",
    "        local = input('Digite o endereco: ')\n",
    "        num_bloco_mp = ''.join(list(local)[0:4])\n",
    "        word_mp = list(local)[4]\n",
    "        tag = ''.join(list(local)[0:bits_tag])\n",
    "        conj = list(local)[-2]\n",
    "        mod_div = int(sett%n_conj_mp)\n",
    "        if mod_div == 0:\n",
    "            if tag == endereco_cache[str(mod_div)][word_mp]['TAG']:\n",
    "                print('Cache HIT!')\n",
    "                print(endereco_cache[str(mod_div)][word_mp][word_mp])\n",
    "                continue\n",
    "            else:\n",
    "                print('Cache MISS!')\n",
    "        elif mod_div == 1:\n",
    "            if tag == endereco_cache[str(mod_div)][word_mp]['TAG']:\n",
    "                print('Cache HIT!')\n",
    "                print(endereco_cache[str(mod_div)][word_mp][word_mp])\n",
    "            else:\n",
    "                print('Cache MISS!')\n",
    "        for placem in range(0,2):\n",
    "            endereco_cache[conj][str(placem)][word_mp] = endereco_mp[num_bloco_mp][local]\n",
    "        endereco_cache[str(mod_div)][word_mp]['TAG'] = tag\n",
    "        print(endereco_mp[num_bloco_mp][local]) #end\n",
    "    elif start == 'L':\n",
    "        print('Todos os estados: ')\n",
    "        for element in endereco_mp:\n",
    "            for element1 in endereco_mp[element]:\n",
    "                print(endereco_mp[element][element1])"
   ]
  },
  {
   "cell_type": "code",
   "execution_count": null,
   "metadata": {},
   "outputs": [],
   "source": []
  }
 ],
 "metadata": {
  "kernelspec": {
   "display_name": "Python 3",
   "language": "python",
   "name": "python3"
  },
  "language_info": {
   "codemirror_mode": {
    "name": "ipython",
    "version": 3
   },
   "file_extension": ".py",
   "mimetype": "text/x-python",
   "name": "python",
   "nbconvert_exporter": "python",
   "pygments_lexer": "ipython3",
   "version": "3.6.11"
  }
 },
 "nbformat": 4,
 "nbformat_minor": 2
}
